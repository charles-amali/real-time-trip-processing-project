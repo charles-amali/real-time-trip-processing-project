{
 "cells": [
  {
   "cell_type": "code",
   "execution_count": 21,
   "id": "e0309dac",
   "metadata": {},
   "outputs": [],
   "source": [
    "import pandas as pd\n",
    "from datetime import datetime"
   ]
  },
  {
   "cell_type": "code",
   "execution_count": 4,
   "id": "65a27803",
   "metadata": {},
   "outputs": [],
   "source": [
    "trip_start_df = pd.read_csv(\"../data/trip_start.csv\")\n",
    "trip_end_df = pd.read_csv(\"../data/trip_end.csv\")"
   ]
  },
  {
   "cell_type": "code",
   "execution_count": 5,
   "id": "9425454f",
   "metadata": {},
   "outputs": [
    {
     "data": {
      "text/html": [
       "<div>\n",
       "<style scoped>\n",
       "    .dataframe tbody tr th:only-of-type {\n",
       "        vertical-align: middle;\n",
       "    }\n",
       "\n",
       "    .dataframe tbody tr th {\n",
       "        vertical-align: top;\n",
       "    }\n",
       "\n",
       "    .dataframe thead th {\n",
       "        text-align: right;\n",
       "    }\n",
       "</style>\n",
       "<table border=\"1\" class=\"dataframe\">\n",
       "  <thead>\n",
       "    <tr style=\"text-align: right;\">\n",
       "      <th></th>\n",
       "      <th>trip_id</th>\n",
       "      <th>pickup_location_id</th>\n",
       "      <th>dropoff_location_id</th>\n",
       "      <th>vendor_id</th>\n",
       "      <th>pickup_datetime</th>\n",
       "      <th>estimated_dropoff_datetime</th>\n",
       "      <th>estimated_fare_amount</th>\n",
       "    </tr>\n",
       "  </thead>\n",
       "  <tbody>\n",
       "    <tr>\n",
       "      <th>0</th>\n",
       "      <td>c66ce556bc</td>\n",
       "      <td>93</td>\n",
       "      <td>93</td>\n",
       "      <td>1</td>\n",
       "      <td>2024-05-25 13:19:00</td>\n",
       "      <td>2024-05-25 14:03:00</td>\n",
       "      <td>34.185953</td>\n",
       "    </tr>\n",
       "    <tr>\n",
       "      <th>1</th>\n",
       "      <td>f93c901b2d</td>\n",
       "      <td>247</td>\n",
       "      <td>247</td>\n",
       "      <td>1</td>\n",
       "      <td>2024-05-25 18:32:00</td>\n",
       "      <td>2024-05-25 19:15:00</td>\n",
       "      <td>69.124717</td>\n",
       "    </tr>\n",
       "    <tr>\n",
       "      <th>2</th>\n",
       "      <td>9ddba1d91a</td>\n",
       "      <td>7</td>\n",
       "      <td>193</td>\n",
       "      <td>2</td>\n",
       "      <td>2024-05-25 05:17:00</td>\n",
       "      <td>2024-05-25 05:37:00</td>\n",
       "      <td>47.097901</td>\n",
       "    </tr>\n",
       "    <tr>\n",
       "      <th>3</th>\n",
       "      <td>cc4db3afb9</td>\n",
       "      <td>193</td>\n",
       "      <td>193</td>\n",
       "      <td>2</td>\n",
       "      <td>2024-05-25 16:16:00</td>\n",
       "      <td>2024-05-25 17:02:00</td>\n",
       "      <td>66.546304</td>\n",
       "    </tr>\n",
       "    <tr>\n",
       "      <th>4</th>\n",
       "      <td>f881b97b2c</td>\n",
       "      <td>93</td>\n",
       "      <td>93</td>\n",
       "      <td>1</td>\n",
       "      <td>2024-05-25 12:43:00</td>\n",
       "      <td>2024-05-25 13:39:00</td>\n",
       "      <td>69.309091</td>\n",
       "    </tr>\n",
       "  </tbody>\n",
       "</table>\n",
       "</div>"
      ],
      "text/plain": [
       "      trip_id  pickup_location_id  dropoff_location_id  vendor_id  \\\n",
       "0  c66ce556bc                  93                   93          1   \n",
       "1  f93c901b2d                 247                  247          1   \n",
       "2  9ddba1d91a                   7                  193          2   \n",
       "3  cc4db3afb9                 193                  193          2   \n",
       "4  f881b97b2c                  93                   93          1   \n",
       "\n",
       "       pickup_datetime estimated_dropoff_datetime  estimated_fare_amount  \n",
       "0  2024-05-25 13:19:00        2024-05-25 14:03:00              34.185953  \n",
       "1  2024-05-25 18:32:00        2024-05-25 19:15:00              69.124717  \n",
       "2  2024-05-25 05:17:00        2024-05-25 05:37:00              47.097901  \n",
       "3  2024-05-25 16:16:00        2024-05-25 17:02:00              66.546304  \n",
       "4  2024-05-25 12:43:00        2024-05-25 13:39:00              69.309091  "
      ]
     },
     "execution_count": 5,
     "metadata": {},
     "output_type": "execute_result"
    }
   ],
   "source": [
    "trip_start_df.head()"
   ]
  },
  {
   "cell_type": "code",
   "execution_count": 7,
   "id": "3d295733",
   "metadata": {},
   "outputs": [
    {
     "data": {
      "text/plain": [
       "(4999, 7)"
      ]
     },
     "execution_count": 7,
     "metadata": {},
     "output_type": "execute_result"
    }
   ],
   "source": [
    "trip_start_df.shape"
   ]
  },
  {
   "cell_type": "code",
   "execution_count": 19,
   "id": "d5d3ff5e",
   "metadata": {},
   "outputs": [
    {
     "data": {
      "text/plain": [
       "Index(['trip_id', 'pickup_location_id', 'dropoff_location_id', 'vendor_id',\n",
       "       'pickup_datetime', 'estimated_dropoff_datetime',\n",
       "       'estimated_fare_amount'],\n",
       "      dtype='object')"
      ]
     },
     "execution_count": 19,
     "metadata": {},
     "output_type": "execute_result"
    }
   ],
   "source": [
    "trip_start_df.columns\n"
   ]
  },
  {
   "cell_type": "code",
   "execution_count": 10,
   "id": "69609889",
   "metadata": {},
   "outputs": [
    {
     "data": {
      "text/html": [
       "<div>\n",
       "<style scoped>\n",
       "    .dataframe tbody tr th:only-of-type {\n",
       "        vertical-align: middle;\n",
       "    }\n",
       "\n",
       "    .dataframe tbody tr th {\n",
       "        vertical-align: top;\n",
       "    }\n",
       "\n",
       "    .dataframe thead th {\n",
       "        text-align: right;\n",
       "    }\n",
       "</style>\n",
       "<table border=\"1\" class=\"dataframe\">\n",
       "  <thead>\n",
       "    <tr style=\"text-align: right;\">\n",
       "      <th></th>\n",
       "      <th>dropoff_datetime</th>\n",
       "      <th>rate_code</th>\n",
       "      <th>passenger_count</th>\n",
       "      <th>trip_distance</th>\n",
       "      <th>fare_amount</th>\n",
       "      <th>tip_amount</th>\n",
       "      <th>payment_type</th>\n",
       "      <th>trip_type</th>\n",
       "      <th>trip_id</th>\n",
       "    </tr>\n",
       "  </thead>\n",
       "  <tbody>\n",
       "    <tr>\n",
       "      <th>0</th>\n",
       "      <td>2024-05-25 14:05:00</td>\n",
       "      <td>5.0</td>\n",
       "      <td>0.0</td>\n",
       "      <td>0.1</td>\n",
       "      <td>40.096207</td>\n",
       "      <td>0.000000</td>\n",
       "      <td>3.0</td>\n",
       "      <td>2.0</td>\n",
       "      <td>c66ce556bc</td>\n",
       "    </tr>\n",
       "    <tr>\n",
       "      <th>1</th>\n",
       "      <td>2024-05-25 19:15:00</td>\n",
       "      <td>5.0</td>\n",
       "      <td>1.0</td>\n",
       "      <td>0.0</td>\n",
       "      <td>69.124717</td>\n",
       "      <td>0.000000</td>\n",
       "      <td>3.0</td>\n",
       "      <td>2.0</td>\n",
       "      <td>f93c901b2d</td>\n",
       "    </tr>\n",
       "    <tr>\n",
       "      <th>2</th>\n",
       "      <td>2024-05-25 05:41:00</td>\n",
       "      <td>1.0</td>\n",
       "      <td>1.0</td>\n",
       "      <td>0.0</td>\n",
       "      <td>47.097901</td>\n",
       "      <td>0.000000</td>\n",
       "      <td>1.0</td>\n",
       "      <td>1.0</td>\n",
       "      <td>9ddba1d91a</td>\n",
       "    </tr>\n",
       "    <tr>\n",
       "      <th>3</th>\n",
       "      <td>2024-05-25 17:05:00</td>\n",
       "      <td>1.0</td>\n",
       "      <td>1.0</td>\n",
       "      <td>0.0</td>\n",
       "      <td>77.156184</td>\n",
       "      <td>1.423181</td>\n",
       "      <td>1.0</td>\n",
       "      <td>1.0</td>\n",
       "      <td>cc4db3afb9</td>\n",
       "    </tr>\n",
       "    <tr>\n",
       "      <th>4</th>\n",
       "      <td>2024-05-25 13:39:00</td>\n",
       "      <td>5.0</td>\n",
       "      <td>1.0</td>\n",
       "      <td>0.1</td>\n",
       "      <td>81.467290</td>\n",
       "      <td>0.000000</td>\n",
       "      <td>3.0</td>\n",
       "      <td>2.0</td>\n",
       "      <td>f881b97b2c</td>\n",
       "    </tr>\n",
       "  </tbody>\n",
       "</table>\n",
       "</div>"
      ],
      "text/plain": [
       "      dropoff_datetime  rate_code  passenger_count  trip_distance  \\\n",
       "0  2024-05-25 14:05:00        5.0              0.0            0.1   \n",
       "1  2024-05-25 19:15:00        5.0              1.0            0.0   \n",
       "2  2024-05-25 05:41:00        1.0              1.0            0.0   \n",
       "3  2024-05-25 17:05:00        1.0              1.0            0.0   \n",
       "4  2024-05-25 13:39:00        5.0              1.0            0.1   \n",
       "\n",
       "   fare_amount  tip_amount  payment_type  trip_type     trip_id  \n",
       "0    40.096207    0.000000           3.0        2.0  c66ce556bc  \n",
       "1    69.124717    0.000000           3.0        2.0  f93c901b2d  \n",
       "2    47.097901    0.000000           1.0        1.0  9ddba1d91a  \n",
       "3    77.156184    1.423181           1.0        1.0  cc4db3afb9  \n",
       "4    81.467290    0.000000           3.0        2.0  f881b97b2c  "
      ]
     },
     "execution_count": 10,
     "metadata": {},
     "output_type": "execute_result"
    }
   ],
   "source": [
    "trip_end_df.head()"
   ]
  },
  {
   "cell_type": "code",
   "execution_count": 11,
   "id": "e23d7248",
   "metadata": {},
   "outputs": [
    {
     "data": {
      "text/plain": [
       "(4999, 9)"
      ]
     },
     "execution_count": 11,
     "metadata": {},
     "output_type": "execute_result"
    }
   ],
   "source": [
    "trip_end_df.shape"
   ]
  },
  {
   "cell_type": "code",
   "execution_count": 20,
   "id": "80189dc5",
   "metadata": {},
   "outputs": [
    {
     "data": {
      "text/plain": [
       "Index(['dropoff_datetime', 'rate_code', 'passenger_count', 'trip_distance',\n",
       "       'fare_amount', 'tip_amount', 'payment_type', 'trip_type', 'trip_id'],\n",
       "      dtype='object')"
      ]
     },
     "execution_count": 20,
     "metadata": {},
     "output_type": "execute_result"
    }
   ],
   "source": [
    "trip_end_df.columns"
   ]
  },
  {
   "cell_type": "code",
   "execution_count": 23,
   "id": "ae50baf2",
   "metadata": {},
   "outputs": [
    {
     "data": {
      "text/html": [
       "<div>\n",
       "<style scoped>\n",
       "    .dataframe tbody tr th:only-of-type {\n",
       "        vertical-align: middle;\n",
       "    }\n",
       "\n",
       "    .dataframe tbody tr th {\n",
       "        vertical-align: top;\n",
       "    }\n",
       "\n",
       "    .dataframe thead th {\n",
       "        text-align: right;\n",
       "    }\n",
       "</style>\n",
       "<table border=\"1\" class=\"dataframe\">\n",
       "  <thead>\n",
       "    <tr style=\"text-align: right;\">\n",
       "      <th></th>\n",
       "      <th>trip_id</th>\n",
       "      <th>pickup_location_id</th>\n",
       "      <th>dropoff_location_id</th>\n",
       "      <th>vendor_id</th>\n",
       "      <th>pickup_datetime</th>\n",
       "      <th>estimated_dropoff_datetime</th>\n",
       "      <th>estimated_fare_amount</th>\n",
       "      <th>dropoff_datetime</th>\n",
       "      <th>rate_code</th>\n",
       "      <th>passenger_count</th>\n",
       "      <th>trip_distance</th>\n",
       "      <th>fare_amount</th>\n",
       "      <th>tip_amount</th>\n",
       "      <th>payment_type</th>\n",
       "      <th>trip_type</th>\n",
       "    </tr>\n",
       "  </thead>\n",
       "  <tbody>\n",
       "    <tr>\n",
       "      <th>0</th>\n",
       "      <td>c66ce556bc</td>\n",
       "      <td>93</td>\n",
       "      <td>93</td>\n",
       "      <td>1</td>\n",
       "      <td>2024-05-25 13:19:00</td>\n",
       "      <td>2024-05-25 14:03:00</td>\n",
       "      <td>34.185953</td>\n",
       "      <td>2024-05-25 14:05:00</td>\n",
       "      <td>5.0</td>\n",
       "      <td>0.0</td>\n",
       "      <td>0.1</td>\n",
       "      <td>40.096207</td>\n",
       "      <td>0.000000</td>\n",
       "      <td>3.0</td>\n",
       "      <td>2.0</td>\n",
       "    </tr>\n",
       "    <tr>\n",
       "      <th>1</th>\n",
       "      <td>f93c901b2d</td>\n",
       "      <td>247</td>\n",
       "      <td>247</td>\n",
       "      <td>1</td>\n",
       "      <td>2024-05-25 18:32:00</td>\n",
       "      <td>2024-05-25 19:15:00</td>\n",
       "      <td>69.124717</td>\n",
       "      <td>2024-05-25 19:15:00</td>\n",
       "      <td>5.0</td>\n",
       "      <td>1.0</td>\n",
       "      <td>0.0</td>\n",
       "      <td>69.124717</td>\n",
       "      <td>0.000000</td>\n",
       "      <td>3.0</td>\n",
       "      <td>2.0</td>\n",
       "    </tr>\n",
       "    <tr>\n",
       "      <th>2</th>\n",
       "      <td>9ddba1d91a</td>\n",
       "      <td>7</td>\n",
       "      <td>193</td>\n",
       "      <td>2</td>\n",
       "      <td>2024-05-25 05:17:00</td>\n",
       "      <td>2024-05-25 05:37:00</td>\n",
       "      <td>47.097901</td>\n",
       "      <td>2024-05-25 05:41:00</td>\n",
       "      <td>1.0</td>\n",
       "      <td>1.0</td>\n",
       "      <td>0.0</td>\n",
       "      <td>47.097901</td>\n",
       "      <td>0.000000</td>\n",
       "      <td>1.0</td>\n",
       "      <td>1.0</td>\n",
       "    </tr>\n",
       "    <tr>\n",
       "      <th>3</th>\n",
       "      <td>cc4db3afb9</td>\n",
       "      <td>193</td>\n",
       "      <td>193</td>\n",
       "      <td>2</td>\n",
       "      <td>2024-05-25 16:16:00</td>\n",
       "      <td>2024-05-25 17:02:00</td>\n",
       "      <td>66.546304</td>\n",
       "      <td>2024-05-25 17:05:00</td>\n",
       "      <td>1.0</td>\n",
       "      <td>1.0</td>\n",
       "      <td>0.0</td>\n",
       "      <td>77.156184</td>\n",
       "      <td>1.423181</td>\n",
       "      <td>1.0</td>\n",
       "      <td>1.0</td>\n",
       "    </tr>\n",
       "    <tr>\n",
       "      <th>4</th>\n",
       "      <td>f881b97b2c</td>\n",
       "      <td>93</td>\n",
       "      <td>93</td>\n",
       "      <td>1</td>\n",
       "      <td>2024-05-25 12:43:00</td>\n",
       "      <td>2024-05-25 13:39:00</td>\n",
       "      <td>69.309091</td>\n",
       "      <td>2024-05-25 13:39:00</td>\n",
       "      <td>5.0</td>\n",
       "      <td>1.0</td>\n",
       "      <td>0.1</td>\n",
       "      <td>81.467290</td>\n",
       "      <td>0.000000</td>\n",
       "      <td>3.0</td>\n",
       "      <td>2.0</td>\n",
       "    </tr>\n",
       "  </tbody>\n",
       "</table>\n",
       "</div>"
      ],
      "text/plain": [
       "      trip_id  pickup_location_id  dropoff_location_id  vendor_id  \\\n",
       "0  c66ce556bc                  93                   93          1   \n",
       "1  f93c901b2d                 247                  247          1   \n",
       "2  9ddba1d91a                   7                  193          2   \n",
       "3  cc4db3afb9                 193                  193          2   \n",
       "4  f881b97b2c                  93                   93          1   \n",
       "\n",
       "       pickup_datetime estimated_dropoff_datetime  estimated_fare_amount  \\\n",
       "0  2024-05-25 13:19:00        2024-05-25 14:03:00              34.185953   \n",
       "1  2024-05-25 18:32:00        2024-05-25 19:15:00              69.124717   \n",
       "2  2024-05-25 05:17:00        2024-05-25 05:37:00              47.097901   \n",
       "3  2024-05-25 16:16:00        2024-05-25 17:02:00              66.546304   \n",
       "4  2024-05-25 12:43:00        2024-05-25 13:39:00              69.309091   \n",
       "\n",
       "      dropoff_datetime  rate_code  passenger_count  trip_distance  \\\n",
       "0  2024-05-25 14:05:00        5.0              0.0            0.1   \n",
       "1  2024-05-25 19:15:00        5.0              1.0            0.0   \n",
       "2  2024-05-25 05:41:00        1.0              1.0            0.0   \n",
       "3  2024-05-25 17:05:00        1.0              1.0            0.0   \n",
       "4  2024-05-25 13:39:00        5.0              1.0            0.1   \n",
       "\n",
       "   fare_amount  tip_amount  payment_type  trip_type  \n",
       "0    40.096207    0.000000           3.0        2.0  \n",
       "1    69.124717    0.000000           3.0        2.0  \n",
       "2    47.097901    0.000000           1.0        1.0  \n",
       "3    77.156184    1.423181           1.0        1.0  \n",
       "4    81.467290    0.000000           3.0        2.0  "
      ]
     },
     "execution_count": 23,
     "metadata": {},
     "output_type": "execute_result"
    }
   ],
   "source": [
    "trip_merge = pd.merge(trip_start_df, trip_end_df, on=\"trip_id\")\n",
    "trip_merge.head()\n"
   ]
  },
  {
   "cell_type": "code",
   "execution_count": 18,
   "id": "b3bd89b7",
   "metadata": {},
   "outputs": [
    {
     "data": {
      "text/plain": [
       "(4999, 15)"
      ]
     },
     "execution_count": 18,
     "metadata": {},
     "output_type": "execute_result"
    }
   ],
   "source": [
    "trip_merge.shape"
   ]
  },
  {
   "cell_type": "code",
   "execution_count": null,
   "id": "f5fc519e",
   "metadata": {},
   "outputs": [],
   "source": []
  }
 ],
 "metadata": {
  "kernelspec": {
   "display_name": "venv",
   "language": "python",
   "name": "python3"
  },
  "language_info": {
   "codemirror_mode": {
    "name": "ipython",
    "version": 3
   },
   "file_extension": ".py",
   "mimetype": "text/x-python",
   "name": "python",
   "nbconvert_exporter": "python",
   "pygments_lexer": "ipython3",
   "version": "3.13.2"
  }
 },
 "nbformat": 4,
 "nbformat_minor": 5
}
